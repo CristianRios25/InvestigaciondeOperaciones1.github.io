{
  "nbformat": 4,
  "nbformat_minor": 0,
  "metadata": {
    "colab": {
      "provenance": [],
      "authorship_tag": "ABX9TyMCnR59xM9pGRvotVIAD6b4",
      "include_colab_link": true
    },
    "kernelspec": {
      "name": "python3",
      "display_name": "Python 3"
    },
    "language_info": {
      "name": "python"
    }
  },
  "cells": [
    {
      "cell_type": "markdown",
      "metadata": {
        "id": "view-in-github",
        "colab_type": "text"
      },
      "source": [
        "<a href=\"https://colab.research.google.com/github/CristianRios25/InvestigaciondeOperaciones1.github.io/blob/main/Ejercicio_1_Prueba_IO1_(Gabriel_Awad).ipynb\" target=\"_parent\"><img src=\"https://colab.research.google.com/assets/colab-badge.svg\" alt=\"Open In Colab\"/></a>"
      ]
    },
    {
      "cell_type": "code",
      "execution_count": null,
      "metadata": {
        "colab": {
          "base_uri": "https://localhost:8080/"
        },
        "id": "tkFY0zbbrOb6",
        "outputId": "9b0f9c9b-4a3c-459c-ccd3-784b55a0d45b"
      },
      "outputs": [
        {
          "output_type": "stream",
          "name": "stdout",
          "text": [
            "Looking in indexes: https://pypi.org/simple, https://us-python.pkg.dev/colab-wheels/public/simple/\n",
            "Requirement already satisfied: cvxpy in /usr/local/lib/python3.8/dist-packages (1.2.3)\n",
            "Requirement already satisfied: scs>=1.1.6 in /usr/local/lib/python3.8/dist-packages (from cvxpy) (3.2.2)\n",
            "Requirement already satisfied: scipy>=1.1.0 in /usr/local/lib/python3.8/dist-packages (from cvxpy) (1.7.3)\n",
            "Requirement already satisfied: ecos>=2 in /usr/local/lib/python3.8/dist-packages (from cvxpy) (2.0.12)\n",
            "Requirement already satisfied: numpy>=1.15 in /usr/local/lib/python3.8/dist-packages (from cvxpy) (1.22.4)\n",
            "Requirement already satisfied: osqp>=0.4.1 in /usr/local/lib/python3.8/dist-packages (from cvxpy) (0.6.2.post0)\n",
            "Requirement already satisfied: setuptools<=64.0.2 in /usr/local/lib/python3.8/dist-packages (from cvxpy) (57.4.0)\n",
            "Requirement already satisfied: qdldl in /usr/local/lib/python3.8/dist-packages (from osqp>=0.4.1->cvxpy) (0.1.5.post3)\n"
          ]
        }
      ],
      "source": [
        "pip install cvxpy\n"
      ]
    },
    {
      "cell_type": "code",
      "source": [
        "#@title Importar Librerías\n",
        "# Importamos las librerías solicitadas y necesarias para la realización de estos problemas y las abreviamos a través del comando as.\n",
        "import cvxpy as cvx\n",
        "import numpy as np\n"
      ],
      "metadata": {
        "id": "DsN3snNhsiUQ",
        "cellView": "form"
      },
      "execution_count": null,
      "outputs": []
    },
    {
      "cell_type": "code",
      "source": [
        "#@title Forma algebraíca\n",
        "\n",
        "#Definir variables del problema\n",
        "#Definimos las variables con el nombre que querramos (en este caso x1 y x2) y con el codigo \"cvx.Variable\", además, agregamos la restricción de no negatividad \"(nonneg=True)\" si ese es el caso, en caso contrario colocamos False.\n",
        "\n",
        "x1=cvx.Variable(nonneg=True)\n",
        "x2=cvx.Variable(nonneg=True)\n",
        "\n",
        "#Definir función objetivo\n",
        "#Luego definimos la fo (llamada \"Z\" en este caso) del problema através del comando cvx.Minimize o cvx.Maximize según sea el caso y agregamos dicha función en parentesis.\n",
        "\n",
        "Z=cvx.Minimize(3*x1+8*x2)\n",
        "\n",
        "#Definir Restricciones\n",
        "#Para cerrar definimos las restricciones como querramos (r en este caso), luego abrimos corchetes y las escribimos separadas por comas, abajo están escritas una debajo de la otra para un mejor entendimiento.\n",
        "\n",
        "r=[x1+x2>=50,\n",
        "   x1-x2<=20]\n",
        "\n",
        "#Configurar Problema\n",
        "#Para terminar el ejercicio ponemos a correr la solución del problema anterior a través de los dos comando de abajo.\n",
        "#Primero definimos este ejercicio (\"Problema\") y lo igualamos a cvx.Problem(\"Definición de fo\",\"Definición de Restricciones\") y terminamos con el último comando .solve() seguido de la definición que le dimos al ejercicio.\n",
        "\n",
        "Problema=cvx.Problem(Z,r)\n",
        "Problema.solve()\n",
        "\n",
        "#Hasta el renglón anterior se supone que Colab ya ha resuelto el problema, sin embargo no nos da las respuestas ya que tenemos que pedirle que las imprima.\n",
        "#Primero necesitamos saber si la solución encontrada es óptima, esto lo hacemos con el comando print(\"Problema\".status). \n",
        "\n",
        "print(Problema.status)\n",
        "\n",
        "#Por último, le pedimos a Colab que nos imprima los valores óptimos de la fo y sus variables, además con los comandos de abajo le pedimos también que nos imprima los números redondeados, en este caso a 0 decimales.\n",
        "\n",
        "print(\"Z=\",np.round(Problema.solve(),0))\n",
        "print(\"x1\",np.round(x1.value,0))\n",
        "print(\"x2\",np.round(x2.value,0))\n"
      ],
      "metadata": {
        "colab": {
          "base_uri": "https://localhost:8080/"
        },
        "id": "0U07SY4is62u",
        "outputId": "afb16809-59e8-43d1-ce58-6aa06ca4c372"
      },
      "execution_count": null,
      "outputs": [
        {
          "output_type": "stream",
          "name": "stdout",
          "text": [
            "optimal\n",
            "Z= 225.0\n",
            "x1 35.0\n",
            "x2 15.0\n"
          ]
        }
      ]
    },
    {
      "cell_type": "code",
      "source": [
        "#@title Forma Matricial\n",
        "#Esta es otra forma de hacer el mismo ejercicio, una forma que nos ayuda bastante en caso de tener bastantes variables y restricciones.\n",
        "\n",
        "#Definir variables del problema\n",
        "#En este caso no vamos a definir cada variable, si no que definimos todas en un solo renglón (x en este ejemplo). \n",
        "#Lo anterior lo hacemos a través de cvx.Variable((\"número de variables\",1),nonneg=True/False).\n",
        "\n",
        "x = cvx.Variable((2,1),nonneg=True)\n",
        "\n",
        "#Definir función objetivo\n",
        "#En este punto empezamos definiendo con el nombre que querramos (\"c\") los coeficientes de la función objetivo.\n",
        "#Luego, definimos la fo(\"Z\") con el comando cvx.Minimize/Maximize(\"c\"@\"x\"), lo anterior lo que hace es multiplicar cada variable con su coeficiente objetivo.\n",
        "\n",
        "c = [3,8]\n",
        "Z = cvx.Minimize(c@x)\n",
        "\n",
        "#Definir Restricciones\n",
        "#Para cerrar definimos 3 cosas, la primera son los coeficientes tecnológicos, para un mejor entendimiento colocamos cada grupo de corchetes uno debajo del otro, de la manera filas-coef tecnológicos y columnas-cada restricción.\n",
        "#Luego definimos como querramos los recursos (\"b\" en este caso).\n",
        "#Y para cerrar definimos ahora sí la restricción de la manera T@x </>= b, en el que se multiplica cada coeficiente tecnológico con su variable y se iguala al recurso definido.\n",
        "\n",
        "T = [[-1,1],\n",
        "     [-1,-1]]\n",
        "\n",
        "b = [[-50,20]]\n",
        "\n",
        "r = [T@x <= b]\n",
        "\n",
        "#Configurar Problema\n",
        "#Por último pedimos a Colab que nos corra todo el problema de la misma forma que el anterior procedmiento y además le pedimos con los últimos comandos que nos imprima las respuestas óptimas redondeadas a 0 decimales.\n",
        "\n",
        "Problema=cvx.Problem(Z,r)\n",
        "Problema.solve()\n",
        "\n",
        "print(Problema.status)\n",
        "\n",
        "print(\"Z=\",np.round(Problema.solve(),0))\n",
        "\n",
        "print(\"x1\",np.round(x[0].value,0))\n",
        "print(\"x2\",np.round(x[1].value,0))"
      ],
      "metadata": {
        "colab": {
          "base_uri": "https://localhost:8080/"
        },
        "id": "LC82yUbWyoV_",
        "outputId": "0ffb37d9-5f5b-4d90-d631-7d583207916e"
      },
      "execution_count": null,
      "outputs": [
        {
          "output_type": "stream",
          "name": "stdout",
          "text": [
            "optimal\n",
            "Z= 225.0\n",
            "x1 [35.]\n",
            "x2 [15.]\n"
          ]
        }
      ]
    }
  ]
}